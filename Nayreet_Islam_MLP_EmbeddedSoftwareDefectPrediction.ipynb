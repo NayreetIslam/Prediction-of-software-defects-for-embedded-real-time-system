{
 "cells": [
  {
   "cell_type": "markdown",
   "metadata": {},
   "source": [
    "# On the Prediction of Software Defects for Embedded Real-time Systems"
   ]
  },
  {
   "cell_type": "markdown",
   "metadata": {},
   "source": [
    "# Multilayer perceptron"
   ]
  },
  {
   "cell_type": "code",
   "execution_count": 1,
   "metadata": {
    "collapsed": true
   },
   "outputs": [],
   "source": [
    "import tensorflow as tf\n",
    "import numpy as np\n",
    "from sklearn.utils import shuffle\n",
    "from sklearn.model_selection import train_test_split\n",
    "import pickle\n",
    "import math\n",
    "import matplotlib.pyplot as plt\n",
    "%matplotlib inline\n",
    "from matplotlib.backends.backend_pdf import PdfPages"
   ]
  },
  {
   "cell_type": "markdown",
   "metadata": {},
   "source": [
    "# Loading the data from the Pickle files"
   ]
  },
  {
   "cell_type": "code",
   "execution_count": 2,
   "metadata": {
    "collapsed": true
   },
   "outputs": [],
   "source": [
    "with open('x_train.pkl', 'rb') as f:\n",
    "    x_train = pickle.load(f)\n",
    "\n",
    "with open('x_test.pkl', 'rb') as f:\n",
    "    x_test = pickle.load(f)\n",
    "\n",
    "with open('y_train.pkl', 'rb') as f:\n",
    "    y_train = pickle.load(f)\n",
    "\n",
    "with open('y_test.pkl', 'rb') as f:\n",
    "    y_test = pickle.load(f)\n",
    "    \n",
    "with open('x_traincm1.pkl', 'rb') as f:\n",
    "    x_traincm1 = pickle.load(f)\n",
    "\n",
    "with open('x_testcm1.pkl', 'rb') as f:\n",
    "    x_testcm1 = pickle.load(f)\n",
    "\n",
    "with open('y_traincm1.pkl', 'rb') as f:\n",
    "    y_traincm1 = pickle.load(f)\n",
    "\n",
    "with open('y_testcm1.pkl', 'rb') as f:\n",
    "    y_testcm1 = pickle.load(f)\n",
    "    \n",
    "with open('x_trainjm1.pkl', 'rb') as f:\n",
    "    x_trainjm1 = pickle.load(f)\n",
    "\n",
    "with open('x_testjm1.pkl', 'rb') as f:\n",
    "    x_testjm1 = pickle.load(f)\n",
    "\n",
    "with open('y_trainjm1.pkl', 'rb') as f:\n",
    "    y_trainjm1 = pickle.load(f)\n",
    "\n",
    "with open('y_testjm1.pkl', 'rb') as f:\n",
    "    y_testjm1 = pickle.load(f)\n",
    "    \n",
    "with open('x_trainkc1.pkl', 'rb') as f:\n",
    "    x_trainkc1 = pickle.load(f)\n",
    "\n",
    "with open('x_testkc1.pkl', 'rb') as f:\n",
    "    x_testkc1 = pickle.load(f)\n",
    "\n",
    "with open('y_trainkc1.pkl', 'rb') as f:\n",
    "    y_trainkc1 = pickle.load(f)\n",
    "\n",
    "with open('y_testkc1.pkl', 'rb') as f:\n",
    "    y_testkc1 = pickle.load(f)\n",
    "    \n",
    "with open('x_trainkc2.pkl', 'rb') as f:\n",
    "    x_trainkc2 = pickle.load(f)\n",
    "\n",
    "with open('x_testkc2.pkl', 'rb') as f:\n",
    "    x_testkc2 = pickle.load(f)\n",
    "\n",
    "with open('y_trainkc2.pkl', 'rb') as f:\n",
    "    y_trainkc2 = pickle.load(f)\n",
    "\n",
    "with open('y_testkc2.pkl', 'rb') as f:\n",
    "    y_testkc2 = pickle.load(f)\n",
    "    \n",
    "with open('x_trainpc1.pkl', 'rb') as f:\n",
    "    x_trainpc1 = pickle.load(f)\n",
    "\n",
    "with open('x_testpc1.pkl', 'rb') as f:\n",
    "    x_testpc1 = pickle.load(f)\n",
    "\n",
    "with open('y_trainpc1.pkl', 'rb') as f:\n",
    "    y_trainpc1 = pickle.load(f)\n",
    "\n",
    "with open('y_testpc1.pkl', 'rb') as f:\n",
    "    y_testpc1 = pickle.load(f)\n",
    "    \n",
    "with open('y_train_before1.pkl', 'rb') as f:\n",
    "    y_train_before = pickle.load(f)\n",
    "\n",
    "with open('y_test_before1.pkl', 'rb') as f:\n",
    "    y_test_before = pickle.load(f)\n",
    "    \n",
    "    \n",
    "    \n",
    "with open('y_train_before1cm1.pkl', 'rb') as f:\n",
    "    y_train_beforecm1 = pickle.load(f)\n",
    "\n",
    "with open('y_test_before1cm1.pkl', 'rb') as f:\n",
    "    y_test_beforecm1 = pickle.load(f)\n",
    "    \n",
    "with open('y_train_before1jm1.pkl', 'rb') as f:\n",
    "    y_train_beforejm1 = pickle.load(f)\n",
    "\n",
    "with open('y_test_before1jm1.pkl', 'rb') as f:\n",
    "    y_test_beforejm1 = pickle.load(f)\n",
    "    \n",
    "with open('y_train_before1kc1.pkl', 'rb') as f:\n",
    "    y_train_beforekc1 = pickle.load(f)\n",
    "\n",
    "with open('y_test_before1kc1.pkl', 'rb') as f:\n",
    "    y_test_beforekc1 = pickle.load(f)\n",
    "    \n",
    "with open('y_train_before1kc2.pkl', 'rb') as f:\n",
    "    y_train_beforekc2 = pickle.load(f)\n",
    "\n",
    "with open('y_test_before1kc2.pkl', 'rb') as f:\n",
    "    y_test_beforekc2 = pickle.load(f)\n",
    "    \n",
    "with open('y_train_before1pc1.pkl', 'rb') as f:\n",
    "    y_train_beforepc1 = pickle.load(f)\n",
    "\n",
    "with open('y_test_before1pc1.pkl', 'rb') as f:\n",
    "    y_test_beforepc1 = pickle.load(f)"
   ]
  },
  {
   "cell_type": "markdown",
   "metadata": {
    "collapsed": true
   },
   "source": [
    "# Creating a two layer perceptron based neural network"
   ]
  },
  {
   "cell_type": "code",
   "execution_count": 3,
   "metadata": {
    "collapsed": true
   },
   "outputs": [],
   "source": [
    "def network_architecture(x, hid1_size, hid2_size):\n",
    "    '''\n",
    "    Creates a 2-layer perceptron based on hidden sizes\n",
    "    '''\n",
    "    # Input layer -> Hidden layer\n",
    "    W1 = tf.Variable(tf.random_normal([21, hid1_size]), trainable=True, name = 'W1')\n",
    "    # Hidden layer -> Output layer\n",
    "    W2 = tf.Variable(tf.random_normal([hid1_size, hid2_size]), trainable=True, name = 'W2')\n",
    "    \n",
    "    #l1= tf.add(tf.matmul(data, hidden_1_layer['weights']), hidden_1_layer['biases'])\n",
    "    #l1 = tf.nn.relu(l1)\n",
    "\n",
    "    # Hidden layer\n",
    "    hid_out1 = tf.matmul(x, W1)\n",
    "    hid_out2 = tf.nn.bias_add(hid_out1, tf.constant(1, dtype=tf.float32, shape=[hid1_size]), name='Bias1')\n",
    "    #hid_out = tf.nn.sigmoid(hid_out2)\n",
    "    hid_out = tf.nn.relu(hid_out2)\n",
    "\n",
    "    # Output Layer\n",
    "    out1 = tf.matmul(hid_out, W2)\n",
    "    out2 = tf.nn.bias_add(out1, tf.constant(1, dtype=tf.float32, shape=[hid2_size]), name='Bias2')\n",
    "    out  = out2 \n",
    "    \n",
    "    return out"
   ]
  },
  {
   "cell_type": "code",
   "execution_count": 4,
   "metadata": {
    "collapsed": true
   },
   "outputs": [],
   "source": [
    "# def neural_network_model(data):\n",
    "    \n",
    "#     hidden_1_layer = { 'weights' : tf.Variable(tf.random_normal([784, n_nodes_hl1])),\n",
    "#                        'biases' : tf.Variable(tf.random_normal([n_nodes_hl1]))}\n",
    "    \n",
    "#     hidden_2_layer = { 'weights' : tf.Variable(tf.random_normal([n_nodes_hl1, n_nodes_hl2])),\n",
    "#                        'biases' : tf.Variable(tf.random_normal([n_nodes_hl2]))}\n",
    "    \n",
    "#     hidden_3_layer = { 'weights' : tf.Variable(tf.random_normal([n_nodes_hl2, n_nodes_hl3])),\n",
    "#     #                   'biases' : tf.Variable(tf.random_normal([n_nodes_hl3]))}\n",
    "    \n",
    "#     output_layer = { 'weights' : tf.Variable(tf.random_normal([n_nodes_hl3, n_classes])),\n",
    "#                        'biases' : tf.Variable(tf.random_normal([n_classes]))}\n",
    "    \n",
    "#     l1= tf.add(tf.matmul(data, hidden_1_layer['weights']), hidden_1_layer['biases'])\n",
    "#     l1 = tf.nn.relu(l1)\n",
    "    \n",
    "#     l2= tf.add(tf.matmul(l1, hidden_2_layer['weights']), hidden_2_layer['biases'])\n",
    "#     l2 = tf.nn.relu(l2)\n",
    "    \n",
    "#     l3= tf.add(tf.matmul(l2, hidden_3_layer['weights']), hidden_3_layer['biases'])\n",
    "#     l3 = tf.nn.relu(l3)\n",
    "    \n",
    "#     output= tf.matmul(l3, output_layer['weights'])+ output_layer['biases']\n",
    "    \n",
    "#     return output\n",
    "    "
   ]
  },
  {
   "cell_type": "markdown",
   "metadata": {},
   "source": [
    "# Tunning Hyper-parameters"
   ]
  },
  {
   "cell_type": "code",
   "execution_count": 5,
   "metadata": {
    "collapsed": true
   },
   "outputs": [],
   "source": [
    "## Hyperparameters\n",
    "l_rate        = 1e-2\n",
    "epochs        = 500\n",
    "batch_size    = 700\n",
    "hidden1_size  = 20\n",
    "hidden2_size  = 2"
   ]
  },
  {
   "cell_type": "markdown",
   "metadata": {},
   "source": [
    "# Training two layer perceptron based neural network"
   ]
  },
  {
   "cell_type": "code",
   "execution_count": 6,
   "metadata": {
    "collapsed": true
   },
   "outputs": [],
   "source": [
    "# Input Placeholders \n",
    "x = tf.placeholder(tf.float32, [None, 21])\n",
    "y = tf.placeholder(tf.float32, [None, 2]) \n",
    "\n",
    "# Create network\n",
    "y_ = network_architecture(x, hidden1_size, hidden2_size)"
   ]
  },
  {
   "cell_type": "code",
   "execution_count": 7,
   "metadata": {
    "collapsed": true
   },
   "outputs": [],
   "source": [
    "# Loss function\n",
    "cross_entropy = tf.reduce_mean(tf.nn.softmax_cross_entropy_with_logits(labels=y, logits=y_)) \n",
    "\n",
    "# Optimization algorithm\n",
    "optimizer = tf.train.GradientDescentOptimizer(l_rate)\n",
    "train = optimizer.minimize(cross_entropy)\n",
    "\n",
    "optim = tf.train.AdamOptimizer(learning_rate=l_rate).minimize(cross_entropy)\n",
    "\n",
    "# Initializer\n",
    "init_op = tf.global_variables_initializer()\n",
    "\n",
    "# Accuracy\n",
    "correct_prediction = tf.equal(tf.argmax(y,1), tf.argmax(y_,1))\n",
    "accuracy = tf.reduce_mean(tf.cast(correct_prediction, tf.float32))"
   ]
  },
  {
   "cell_type": "markdown",
   "metadata": {},
   "source": [
    "# Two-layer perceptron based neural network for all the data"
   ]
  },
  {
   "cell_type": "code",
   "execution_count": 8,
   "metadata": {},
   "outputs": [
    {
     "name": "stdout",
     "output_type": "stream",
     "text": [
      "Training_Set...Overall:  12098\n",
      "Testing_Set....Overall:  3025\n",
      "\n",
      "Training Done!\n",
      "The accuracy for Overall test batch is 0.817851\n"
     ]
    }
   ],
   "source": [
    "print('Training_Set...Overall: ', len(x_train))\n",
    "print('Testing_Set....Overall: ', len(x_test))\n",
    "\n",
    "cost = []\n",
    "\n",
    "with tf.Session() as sess: \n",
    "    sess.run(init_op)\n",
    "    for epoch in range(epochs):\n",
    "        #x_train, y_train = shuffle_in_unison(x_train, y_train)\n",
    "        for batch in range(0, len(x_train), batch_size):\n",
    "            batch_x = x_train[batch:(batch+batch_size)]\n",
    "            batch_y = y_train[batch:(batch+batch_size)]\n",
    "            \n",
    "            _, loss = sess.run([train, cross_entropy], feed_dict = {x : batch_x, y : batch_y})\n",
    "        \n",
    "        cost.append(loss)\n",
    "    \n",
    "    print(\"\\nTraining Done!\")\n",
    "    print('The accuracy for Overall test batch is', sess.run(accuracy, feed_dict={x: x_test, y: y_test}))\n",
    "    \n",
    "sess.close()"
   ]
  },
  {
   "cell_type": "markdown",
   "metadata": {},
   "source": [
    "# Plotting the training loss for overall project using two-layer perceptron    "
   ]
  },
  {
   "cell_type": "code",
   "execution_count": 9,
   "metadata": {},
   "outputs": [
    {
     "data": {
      "image/png": "[encoded data removed]",
      "text/plain": [
       "<matplotlib.figure.Figure at 0xd46044beb8>"
      ]
     },
     "metadata": {},
     "output_type": "display_data"
    }
   ],
   "source": [
    "ax = np.floor(np.linspace(0, epochs, epochs))\n",
    "f = plt.figure()\n",
    "plt.plot(ax, cost, color='b')\n",
    "plt.title('Training loss for Overall project for two-layer perceptron', fontsize=18)\n",
    "plt.xlabel('epochs',fontsize=17)\n",
    "plt.ylabel('loss',fontsize=17)\n",
    "f.savefig(\"TwoLayerPerceptronTrainingLossOverall25.pdf\", bbox_inches='tight')"
   ]
  },
  {
   "cell_type": "markdown",
   "metadata": {},
   "source": [
    "# Two-layer perceptron based neural network for CM1"
   ]
  },
  {
   "cell_type": "code",
   "execution_count": 10,
   "metadata": {},
   "outputs": [
    {
     "name": "stdout",
     "output_type": "stream",
     "text": [
      "Training_Set:  398\n",
      "Testing_Set :  100\n",
      "\n",
      "Training Done!\n",
      "The accuracy for CM1 test batch is    0.85\n"
     ]
    }
   ],
   "source": [
    "print('Training_Set: ', len(x_traincm1))\n",
    "print('Testing_Set : ', len(x_testcm1))\n",
    "\n",
    "cost = []\n",
    "\n",
    "with tf.Session() as sess: \n",
    "    sess.run(init_op)\n",
    "    for epoch in range(epochs):\n",
    "        #x_train, y_train = shuffle_in_unison(x_train, y_train)\n",
    "        for batch in range(0, len(x_traincm1), batch_size):\n",
    "            batch_x = x_traincm1[batch:(batch+batch_size)]\n",
    "            batch_y = y_traincm1[batch:(batch+batch_size)]\n",
    "            \n",
    "            _, loss = sess.run([train, cross_entropy], feed_dict = {x : batch_x, y : batch_y})\n",
    "        \n",
    "        cost.append(loss)\n",
    "    \n",
    "    print(\"\\nTraining Done!\")\n",
    "    print('The accuracy for CM1 test batch is   ', sess.run(accuracy, feed_dict={x: x_testcm1, y: y_testcm1}))\n",
    "    \n",
    "sess.close()"
   ]
  },
  {
   "cell_type": "markdown",
   "metadata": {},
   "source": [
    "# Plotting the training loss for CM1 using two-layer perceptron  "
   ]
  },
  {
   "cell_type": "code",
   "execution_count": 11,
   "metadata": {},
   "outputs": [
    {
     "data": {
      "image/png": "[encoded data removed]",
      "text/plain": [
       "<matplotlib.figure.Figure at 0xd45fb4fc88>"
      ]
     },
     "metadata": {},
     "output_type": "display_data"
    }
   ],
   "source": [
    "ax = np.floor(np.linspace(0, epochs, epochs))\n",
    "f = plt.figure()\n",
    "plt.plot(ax, cost, color='b')\n",
    "plt.title('Training loss for CM1 for two-layer perceptron', fontsize=18)\n",
    "plt.xlabel('epochs',fontsize=17)\n",
    "plt.ylabel('loss',fontsize=17)\n",
    "f.savefig(\"TwoLayerPerceptronTrainingLossCM125.pdf\", bbox_inches='tight')"
   ]
  },
  {
   "cell_type": "markdown",
   "metadata": {},
   "source": [
    "# Two-layer perceptron based neural network for JM1"
   ]
  },
  {
   "cell_type": "code",
   "execution_count": 12,
   "metadata": {},
   "outputs": [
    {
     "name": "stdout",
     "output_type": "stream",
     "text": [
      "Training_Set:  8708\n",
      "Testing_Set :  2177\n",
      "\n",
      "Training Done!\n",
      "The accuracy for JM1 test batch is    0.789159\n"
     ]
    }
   ],
   "source": [
    "print('Training_Set: ', len(x_trainjm1))\n",
    "print('Testing_Set : ', len(x_testjm1))\n",
    "\n",
    "cost = []\n",
    "\n",
    "with tf.Session() as sess: \n",
    "    sess.run(init_op)\n",
    "    for epoch in range(epochs):\n",
    "        #x_train, y_train = shuffle_in_unison(x_train, y_train)\n",
    "        for batch in range(0, len(x_trainjm1), batch_size):\n",
    "            batch_x = x_trainjm1[batch:(batch+batch_size)]\n",
    "            batch_y = y_trainjm1[batch:(batch+batch_size)]\n",
    "            \n",
    "            _, loss = sess.run([train, cross_entropy], feed_dict = {x : batch_x, y : batch_y})\n",
    "        \n",
    "        cost.append(loss)\n",
    "    \n",
    "    print(\"\\nTraining Done!\")\n",
    "    print('The accuracy for JM1 test batch is   ', sess.run(accuracy, feed_dict={x: x_testjm1, y: y_testjm1}))\n",
    "    \n",
    "sess.close()"
   ]
  },
  {
   "cell_type": "markdown",
   "metadata": {},
   "source": [
    "# Plotting Training loss for JM1 using two-layer perceptron"
   ]
  },
  {
   "cell_type": "code",
   "execution_count": 13,
   "metadata": {},
   "outputs": [
    {
     "data": {
      "image/png": "[encoded data removed]",
      "text/plain": [
       "<matplotlib.figure.Figure at 0xd462921c88>"
      ]
     },
     "metadata": {},
     "output_type": "display_data"
    }
   ],
   "source": [
    "ax = np.floor(np.linspace(0, epochs, epochs))\n",
    "f = plt.figure()\n",
    "plt.plot(ax, cost, color='b')\n",
    "plt.title('Training loss for JM1 for two-layer perceptron', fontsize=18)\n",
    "plt.xlabel('epochs',fontsize=17)\n",
    "plt.ylabel('loss',fontsize=17)\n",
    "f.savefig(\"TwoLayerPerceptronTrainingLossJM125.pdf\", bbox_inches='tight')"
   ]
  },
  {
   "cell_type": "markdown",
   "metadata": {},
   "source": [
    "# Two-layer perceptron based neural network for KC1"
   ]
  },
  {
   "cell_type": "code",
   "execution_count": 14,
   "metadata": {},
   "outputs": [
    {
     "name": "stdout",
     "output_type": "stream",
     "text": [
      "Training_Set:  1687\n",
      "Testing_Set :  422\n",
      "\n",
      "Training Done!\n",
      "The accuracy for KC1 test batch is    0.841232\n"
     ]
    }
   ],
   "source": [
    "print('Training_Set: ', len(x_trainkc1))\n",
    "print('Testing_Set : ', len(x_testkc1))\n",
    "\n",
    "cost = []\n",
    "\n",
    "with tf.Session() as sess: \n",
    "    sess.run(init_op)\n",
    "    for epoch in range(epochs):\n",
    "        #x_train, y_train = shuffle_in_unison(x_train, y_train)\n",
    "        for batch in range(0, len(x_trainkc1), batch_size):\n",
    "            batch_x = x_trainkc1[batch:(batch+batch_size)]\n",
    "            batch_y = y_trainkc1[batch:(batch+batch_size)]\n",
    "            \n",
    "            _, loss = sess.run([train, cross_entropy], feed_dict = {x : batch_x, y : batch_y})\n",
    "        \n",
    "        cost.append(loss)\n",
    "    \n",
    "    print(\"\\nTraining Done!\")\n",
    "    print('The accuracy for KC1 test batch is   ', sess.run(accuracy, feed_dict={x: x_testkc1, y: y_testkc1}))\n",
    "    \n",
    "sess.close()"
   ]
  },
  {
   "cell_type": "markdown",
   "metadata": {},
   "source": [
    "# Plotting Training loss for KC1 using two-layer perceptron"
   ]
  },
  {
   "cell_type": "code",
   "execution_count": 15,
   "metadata": {},
   "outputs": [
    {
     "data": {
      "image/png": "[encoded data removed]",
      "text/plain": [
       "<matplotlib.figure.Figure at 0xd4605a1b00>"
      ]
     },
     "metadata": {},
     "output_type": "display_data"
    }
   ],
   "source": [
    "ax = np.floor(np.linspace(0, epochs, epochs))\n",
    "f = plt.figure()\n",
    "plt.plot(ax, cost, color='b')\n",
    "plt.title('Training loss for KC1 for two-layer perceptron', fontsize=18)\n",
    "plt.xlabel('epochs',fontsize=17)\n",
    "plt.ylabel('loss',fontsize=17)\n",
    "f.savefig(\"TwoLayerPerceptronTrainingLossKC125.pdf\", bbox_inches='tight')"
   ]
  },
  {
   "cell_type": "markdown",
   "metadata": {},
   "source": [
    "# Two-layer perceptron based neural network for KC2"
   ]
  },
  {
   "cell_type": "code",
   "execution_count": 16,
   "metadata": {},
   "outputs": [
    {
     "name": "stdout",
     "output_type": "stream",
     "text": [
      "Training_Set:  417\n",
      "Testing_Set :  105\n",
      "\n",
      "Training Done!\n",
      "The accuracy for KC2 test batch is    0.790476\n"
     ]
    }
   ],
   "source": [
    "print('Training_Set: ', len(x_trainkc2))\n",
    "print('Testing_Set : ', len(x_testkc2))\n",
    "\n",
    "cost = []\n",
    "\n",
    "with tf.Session() as sess: \n",
    "    sess.run(init_op)\n",
    "    for epoch in range(epochs):\n",
    "        #x_train, y_train = shuffle_in_unison(x_train, y_train)\n",
    "        for batch in range(0, len(x_trainkc2), batch_size):\n",
    "            batch_x = x_trainkc2[batch:(batch+batch_size)]\n",
    "            batch_y = y_trainkc2[batch:(batch+batch_size)]\n",
    "            \n",
    "            _, loss = sess.run([train, cross_entropy], feed_dict = {x : batch_x, y : batch_y})\n",
    "        \n",
    "        cost.append(loss)\n",
    "    \n",
    "    print(\"\\nTraining Done!\")\n",
    "    print('The accuracy for KC2 test batch is   ', sess.run(accuracy, feed_dict={x: x_testkc2, y: y_testkc2}))\n",
    "    \n",
    "sess.close()"
   ]
  },
  {
   "cell_type": "markdown",
   "metadata": {},
   "source": [
    "# Plotting Training loss for KC2 using two-layer perceptron"
   ]
  },
  {
   "cell_type": "code",
   "execution_count": 17,
   "metadata": {},
   "outputs": [
    {
     "data": {
      "image/png": "[encoded data removed]",
      "text/plain": [
       "<matplotlib.figure.Figure at 0xd46291cb38>"
      ]
     },
     "metadata": {},
     "output_type": "display_data"
    }
   ],
   "source": [
    "ax = np.floor(np.linspace(0, epochs, epochs))\n",
    "f = plt.figure()\n",
    "plt.plot(ax, cost, color='b')\n",
    "plt.title('Training loss for KC2 for two-layer perceptron', fontsize=18)\n",
    "plt.xlabel('epochs',fontsize=17)\n",
    "plt.ylabel('loss',fontsize=17)\n",
    "f.savefig(\"TwoLayerPerceptronTrainingLossKC225.pdf\", bbox_inches='tight')"
   ]
  },
  {
   "cell_type": "markdown",
   "metadata": {},
   "source": [
    "# Two-layer perceptron based neural network for PC1"
   ]
  },
  {
   "cell_type": "code",
   "execution_count": 18,
   "metadata": {},
   "outputs": [
    {
     "name": "stdout",
     "output_type": "stream",
     "text": [
      "Training_Set:  887\n",
      "Testing_Set :  222\n",
      "\n",
      "Training Done!\n",
      "The accuracy for PC1 test batch is    0.932432\n"
     ]
    }
   ],
   "source": [
    "print('Training_Set: ', len(x_trainpc1))\n",
    "print('Testing_Set : ', len(x_testpc1))\n",
    "\n",
    "cost = []\n",
    "\n",
    "with tf.Session() as sess: \n",
    "    sess.run(init_op)\n",
    "    for epoch in range(epochs):\n",
    "        #x_train, y_train = shuffle_in_unison(x_train, y_train)\n",
    "        for batch in range(0, len(x_trainpc1), batch_size):\n",
    "            batch_x = x_trainpc1[batch:(batch+batch_size)]\n",
    "            batch_y = y_trainpc1[batch:(batch+batch_size)]\n",
    "            \n",
    "            _, loss = sess.run([train, cross_entropy], feed_dict = {x : batch_x, y : batch_y})\n",
    "        \n",
    "        cost.append(loss)\n",
    "    \n",
    "    print(\"\\nTraining Done!\")\n",
    "    print('The accuracy for PC1 test batch is   ', sess.run(accuracy, feed_dict={x: x_testpc1, y: y_testpc1}))\n",
    "    \n",
    "sess.close()"
   ]
  },
  {
   "cell_type": "markdown",
   "metadata": {},
   "source": [
    "# Plotting Training loss for PC1 using two-layer perceptron"
   ]
  },
  {
   "cell_type": "code",
   "execution_count": 19,
   "metadata": {},
   "outputs": [
    {
     "data": {
      "image/png": "[encoded data removed]",
      "text/plain": [
       "<matplotlib.figure.Figure at 0xd45e924c88>"
      ]
     },
     "metadata": {},
     "output_type": "display_data"
    }
   ],
   "source": [
    "ax = np.floor(np.linspace(0, epochs, epochs))\n",
    "f = plt.figure()\n",
    "plt.plot(ax, cost, color='b')\n",
    "plt.title('Training loss for PC1 for two-layer perceptron', fontsize=18)\n",
    "plt.xlabel('epochs',fontsize=17)\n",
    "plt.ylabel('loss',fontsize=17)\n",
    "f.savefig(\"TwoLayerPerceptronTrainingLossPC125.pdf\", bbox_inches='tight')"
   ]
  },
  {
   "cell_type": "markdown",
   "metadata": {},
   "source": [
    "# Changing Hidden layer size and checking Accuracy for Overall data"
   ]
  },
  {
   "cell_type": "code",
   "execution_count": 20,
   "metadata": {
    "collapsed": true
   },
   "outputs": [],
   "source": [
    "# Delete any previous sessions\n",
    "del sess"
   ]
  },
  {
   "cell_type": "code",
   "execution_count": 21,
   "metadata": {},
   "outputs": [
    {
     "name": "stdout",
     "output_type": "stream",
     "text": [
      "Current Hidden Layer Size: 3\n",
      "\n",
      "Training Done!\n",
      "The accuracy for our test batch is:  0.816859\n",
      "Current Hidden Layer Size: 4\n",
      "\n",
      "Training Done!\n",
      "The accuracy for our test batch is:  0.815868\n",
      "Current Hidden Layer Size: 5\n",
      "\n",
      "Training Done!\n",
      "The accuracy for our test batch is:  0.816859\n",
      "Current Hidden Layer Size: 6\n",
      "\n",
      "Training Done!\n",
      "The accuracy for our test batch is:  0.815207\n",
      "Current Hidden Layer Size: 7\n",
      "\n",
      "Training Done!\n",
      "The accuracy for our test batch is:  0.816529\n",
      "Current Hidden Layer Size: 8\n",
      "\n",
      "Training Done!\n",
      "The accuracy for our test batch is:  0.816859\n",
      "Current Hidden Layer Size: 9\n",
      "\n",
      "Training Done!\n",
      "The accuracy for our test batch is:  0.816529\n",
      "Current Hidden Layer Size: 10\n",
      "\n",
      "Training Done!\n",
      "The accuracy for our test batch is:  0.815537\n",
      "Current Hidden Layer Size: 11\n",
      "\n",
      "Training Done!\n",
      "The accuracy for our test batch is:  0.815207\n",
      "Current Hidden Layer Size: 12\n",
      "\n",
      "Training Done!\n",
      "The accuracy for our test batch is:  0.815537\n",
      "Current Hidden Layer Size: 13\n",
      "\n",
      "Training Done!\n",
      "The accuracy for our test batch is:  0.813554\n",
      "Current Hidden Layer Size: 14\n",
      "\n",
      "Training Done!\n",
      "The accuracy for our test batch is:  0.818843\n",
      "Current Hidden Layer Size: 15\n",
      "\n",
      "Training Done!\n",
      "The accuracy for our test batch is:  0.816859\n",
      "Current Hidden Layer Size: 16\n",
      "\n",
      "Training Done!\n",
      "The accuracy for our test batch is:  0.815868\n",
      "Current Hidden Layer Size: 17\n",
      "\n",
      "Training Done!\n",
      "The accuracy for our test batch is:  0.818843\n",
      "Current Hidden Layer Size: 18\n",
      "\n",
      "Training Done!\n",
      "The accuracy for our test batch is:  0.817521\n",
      "Current Hidden Layer Size: 19\n",
      "\n",
      "Training Done!\n",
      "The accuracy for our test batch is:  0.81719\n",
      "Current Hidden Layer Size: 20\n",
      "\n",
      "Training Done!\n",
      "The accuracy for our test batch is:  0.818843\n"
     ]
    }
   ],
   "source": [
    "layer_size_cost = {}\n",
    "\n",
    "for i in range(3, 21):\n",
    "    print('Current Hidden Layer Size:', i)\n",
    "    # Hidden layer sizes\n",
    "    hidden1_size  = i\n",
    "    hidden2_size  = 2\n",
    "\n",
    "    # Input Placeholders \n",
    "    x = tf.placeholder(tf.float32, [None, 21])\n",
    "    y = tf.placeholder(tf.float32, [None, 2]) \n",
    "\n",
    "    # Create network\n",
    "    y_ = network_architecture(x, hidden1_size, hidden2_size)\n",
    "    \n",
    "    # Loss function\n",
    "    cross_entropy = tf.reduce_mean(tf.nn.softmax_cross_entropy_with_logits(labels=y, logits=y_)) \n",
    "    \n",
    "    # Optimization algorithm\n",
    "    optim = tf.train.AdamOptimizer(learning_rate=l_rate).minimize(cross_entropy)\n",
    "    \n",
    "    optimizer = tf.train.GradientDescentOptimizer(l_rate)\n",
    "    train = optimizer.minimize(cross_entropy)\n",
    "    \n",
    "    # Initializer\n",
    "    init_op = tf.global_variables_initializer()\n",
    "    \n",
    "    # Accuracy\n",
    "    correct_prediction = tf.equal(tf.argmax(y,1), tf.argmax(y_,1))\n",
    "    accuracy = tf.reduce_mean(tf.cast(correct_prediction, tf.float32))\n",
    "\n",
    "    # Training Loss\n",
    "    cost = []\n",
    "\n",
    "    with tf.Session() as sess: \n",
    "        sess.run(init_op)\n",
    "        for epoch in range(epochs):\n",
    "            #x_train, y_train = shuffle_in_unison(x_train, y_train)\n",
    "            for batch in range(0, len(x_train), batch_size):\n",
    "                batch_x = x_train[batch:(batch+batch_size)]\n",
    "                batch_y = y_train[batch:(batch+batch_size)]\n",
    "\n",
    "                _, loss = sess.run([train, cross_entropy], feed_dict = {x : batch_x, y : batch_y})\n",
    "                \n",
    "            cost.append(loss)\n",
    "\n",
    "        print(\"\\nTraining Done!\")\n",
    "        current_hidden_size_acc = sess.run(accuracy, feed_dict={x: x_test, y: y_test})\n",
    "        print('The accuracy for our test batch is: ', current_hidden_size_acc)\n",
    "\n",
    "    sess.close()\n",
    "    \n",
    "    # Save the loss and accuracy into a dict \n",
    "    layer_size_cost[str(i)] = cost\n",
    "    layer_size_cost[(str(i) + '_acc')] = current_hidden_size_acc\n",
    "    \n",
    "    # Delete previous session\n",
    "    del sess"
   ]
  },
  {
   "cell_type": "code",
   "execution_count": null,
   "metadata": {
    "collapsed": true
   },
   "outputs": [],
   "source": []
  },
  {
   "cell_type": "markdown",
   "metadata": {},
   "source": [
    "# Plot Accuracy-vs-Hidden Layer Increments for Overall Data"
   ]
  },
  {
   "cell_type": "code",
   "execution_count": 22,
   "metadata": {
    "collapsed": true
   },
   "outputs": [],
   "source": [
    "layer_size_vs_acc = []\n",
    "\n",
    "for i in range(3, 21, 1):\n",
    "    get_acc = str(i) + '_acc'\n",
    "    layer_size_vs_acc.append(layer_size_cost[get_acc])"
   ]
  },
  {
   "cell_type": "code",
   "execution_count": 23,
   "metadata": {},
   "outputs": [
    {
     "data": {
      "image/png": "[encoded data removed]",
      "text/plain": [
       "<matplotlib.figure.Figure at 0xd4629637f0>"
      ]
     },
     "metadata": {},
     "output_type": "display_data"
    }
   ],
   "source": [
    "ax = np.floor(np.linspace(3, 20, 18))\n",
    "f = plt.figure()\n",
    "plt.plot(ax, layer_size_vs_acc )\n",
    "plt.title('Test Accuracy vs Hidden Layer Size Overall', fontsize=18)\n",
    "plt.xlabel('Hidden Layer Size',fontsize=17)\n",
    "plt.ylabel('Test Accuracy',fontsize=17)\n",
    "f.savefig(\"MultiLayerPerceptronTestAccuracyOverall25.pdf\", bbox_inches='tight')"
   ]
  },
  {
   "cell_type": "markdown",
   "metadata": {
    "collapsed": true
   },
   "source": [
    "# Plot Training error vs Epoch for Overall"
   ]
  },
  {
   "cell_type": "code",
   "execution_count": 24,
   "metadata": {},
   "outputs": [
    {
     "data": {
      "image/png": "[encoded data removed]",
      "text/plain": [
       "<matplotlib.figure.Figure at 0xd46685b1d0>"
      ]
     },
     "metadata": {},
     "output_type": "display_data"
    }
   ],
   "source": [
    "ax = np.floor(np.linspace(3, 20, epochs))\n",
    "f = plt.figure()\n",
    "for i in range(3, 20, 4):\n",
    "    plt.plot(ax, layer_size_cost[str(i)], label='$Hidden size = {i}$'.format(i=i))\n",
    "    \n",
    "plt.legend(loc='best')\n",
    "plt.title('Training error vs Hidden Layer size for Overall', fontsize=15)\n",
    "plt.xlabel('Hidden Layer Size')\n",
    "plt.ylabel('Loss')\n",
    "f.savefig(\"MultiLayerPerceptronTrainingErrorOverall.pdf\", bbox_inches='tight')"
   ]
  },
  {
   "cell_type": "markdown",
   "metadata": {},
   "source": [
    "# Changing Hidden layer size and checking Accuracy for CM1"
   ]
  },
  {
   "cell_type": "code",
   "execution_count": 25,
   "metadata": {
    "collapsed": true
   },
   "outputs": [],
   "source": [
    "# Delete any previous sessions\n",
    "#del sess"
   ]
  },
  {
   "cell_type": "code",
   "execution_count": 26,
   "metadata": {},
   "outputs": [
    {
     "name": "stdout",
     "output_type": "stream",
     "text": [
      "Current Hidden Layer Size: 3\n",
      "\n",
      "Training Done!\n",
      "The accuracy for CM1 test batch is:  0.85\n",
      "Current Hidden Layer Size: 4\n",
      "\n",
      "Training Done!\n",
      "The accuracy for CM1 test batch is:  0.85\n",
      "Current Hidden Layer Size: 5\n",
      "\n",
      "Training Done!\n",
      "The accuracy for CM1 test batch is:  0.85\n",
      "Current Hidden Layer Size: 6\n",
      "\n",
      "Training Done!\n",
      "The accuracy for CM1 test batch is:  0.85\n",
      "Current Hidden Layer Size: 7\n",
      "\n",
      "Training Done!\n",
      "The accuracy for CM1 test batch is:  0.85\n",
      "Current Hidden Layer Size: 8\n",
      "\n",
      "Training Done!\n",
      "The accuracy for CM1 test batch is:  0.85\n",
      "Current Hidden Layer Size: 9\n",
      "\n",
      "Training Done!\n",
      "The accuracy for CM1 test batch is:  0.85\n",
      "Current Hidden Layer Size: 10\n",
      "\n",
      "Training Done!\n",
      "The accuracy for CM1 test batch is:  0.85\n",
      "Current Hidden Layer Size: 11\n",
      "\n",
      "Training Done!\n",
      "The accuracy for CM1 test batch is:  0.84\n",
      "Current Hidden Layer Size: 12\n",
      "\n",
      "Training Done!\n",
      "The accuracy for CM1 test batch is:  0.85\n",
      "Current Hidden Layer Size: 13\n",
      "\n",
      "Training Done!\n",
      "The accuracy for CM1 test batch is:  0.85\n",
      "Current Hidden Layer Size: 14\n",
      "\n",
      "Training Done!\n",
      "The accuracy for CM1 test batch is:  0.85\n",
      "Current Hidden Layer Size: 15\n",
      "\n",
      "Training Done!\n",
      "The accuracy for CM1 test batch is:  0.85\n",
      "Current Hidden Layer Size: 16\n",
      "\n",
      "Training Done!\n",
      "The accuracy for CM1 test batch is:  0.85\n",
      "Current Hidden Layer Size: 17\n",
      "\n",
      "Training Done!\n",
      "The accuracy for CM1 test batch is:  0.85\n",
      "Current Hidden Layer Size: 18\n",
      "\n",
      "Training Done!\n",
      "The accuracy for CM1 test batch is:  0.85\n",
      "Current Hidden Layer Size: 19\n",
      "\n",
      "Training Done!\n",
      "The accuracy for CM1 test batch is:  0.85\n",
      "Current Hidden Layer Size: 20\n",
      "\n",
      "Training Done!\n",
      "The accuracy for CM1 test batch is:  0.85\n"
     ]
    }
   ],
   "source": [
    "layer_size_cost = {}\n",
    "\n",
    "\n",
    "for i in range(3, 21):\n",
    "    print('Current Hidden Layer Size:', i)\n",
    "    # Hidden layer sizes\n",
    "    hidden1_size  = i\n",
    "    hidden2_size  = 2\n",
    "\n",
    "    # Input Placeholders \n",
    "    x = tf.placeholder(tf.float32, [None, 21])\n",
    "    y = tf.placeholder(tf.float32, [None, 2]) \n",
    "\n",
    "    # Create network\n",
    "    y_ = network_architecture(x, hidden1_size, hidden2_size)\n",
    "    \n",
    "    # Loss function\n",
    "    cross_entropy = tf.reduce_mean(tf.nn.softmax_cross_entropy_with_logits(labels=y, logits=y_)) \n",
    "    \n",
    "    # Optimization algorithm\n",
    "    optim = tf.train.AdamOptimizer(learning_rate=l_rate).minimize(cross_entropy)\n",
    "    \n",
    "    optimizer = tf.train.GradientDescentOptimizer(l_rate)\n",
    "    train = optimizer.minimize(cross_entropy)\n",
    "    \n",
    "    # Initializer\n",
    "    init_op = tf.global_variables_initializer()\n",
    "    \n",
    "    # Accuracy\n",
    "    correct_prediction = tf.equal(tf.argmax(y,1), tf.argmax(y_,1))\n",
    "    accuracy = tf.reduce_mean(tf.cast(correct_prediction, tf.float32))\n",
    "\n",
    "    # Training Loss\n",
    "    cost = []\n",
    "\n",
    "    with tf.Session() as sess: \n",
    "        sess.run(init_op)\n",
    "        for epoch in range(epochs):\n",
    "            #x_train, y_train = shuffle_in_unison(x_train, y_train)\n",
    "            for batch in range(0, len(x_traincm1), batch_size):\n",
    "                batch_x = x_traincm1[batch:(batch+batch_size)]\n",
    "                batch_y = y_traincm1[batch:(batch+batch_size)]\n",
    "\n",
    "                _, loss = sess.run([train, cross_entropy], feed_dict = {x : batch_x, y : batch_y})\n",
    "\n",
    "            cost.append(loss)\n",
    "\n",
    "        print(\"\\nTraining Done!\")\n",
    "        current_hidden_size_acc = sess.run(accuracy, feed_dict={x: x_testcm1, y: y_testcm1})\n",
    "        print('The accuracy for CM1 test batch is: ', current_hidden_size_acc)\n",
    "\n",
    "    sess.close()\n",
    "    \n",
    "    # Save the loss and accuracy into a dict \n",
    "    layer_size_cost[str(i)] = cost\n",
    "    layer_size_cost[(str(i) + '_acc')] = current_hidden_size_acc\n",
    "\n",
    "    # Delete previous session\n",
    "    del sess"
   ]
  },
  {
   "cell_type": "markdown",
   "metadata": {},
   "source": [
    "# Plot Accuracy-vs-Hidden Layer Increments for CM1"
   ]
  },
  {
   "cell_type": "code",
   "execution_count": 27,
   "metadata": {
    "collapsed": true
   },
   "outputs": [],
   "source": [
    "layer_size_vs_acc = []\n",
    "\n",
    "for i in range(3, 21, 1):\n",
    "    get_acc = str(i) + '_acc'\n",
    "    layer_size_vs_acc.append(layer_size_cost[get_acc])"
   ]
  },
  {
   "cell_type": "code",
   "execution_count": 28,
   "metadata": {},
   "outputs": [
    {
     "data": {
      "image/png": "[encoded data removed]",
      "text/plain": [
       "<matplotlib.figure.Figure at 0xd4661167b8>"
      ]
     },
     "metadata": {},
     "output_type": "display_data"
    }
   ],
   "source": [
    "ax = np.floor(np.linspace(3, 20, 18))\n",
    "f = plt.figure()\n",
    "plt.plot(ax, layer_size_vs_acc )\n",
    "plt.title('Test Accuracy vs Hidden Layer Size for CM1', fontsize=18)\n",
    "plt.xlabel('Hidden Layer Size',fontsize=17)\n",
    "plt.ylabel('Test Accuracy',fontsize=17)\n",
    "f.savefig(\"MultiLayerPerceptronTestAccuracyCM125.pdf\", bbox_inches='tight')"
   ]
  },
  {
   "cell_type": "markdown",
   "metadata": {
    "collapsed": true
   },
   "source": [
    "# Plot Training error vs Epoch for CM1"
   ]
  },
  {
   "cell_type": "code",
   "execution_count": 29,
   "metadata": {},
   "outputs": [
    {
     "data": {
      "image/png": "[encoded data removed]",
      "text/plain": [
       "<matplotlib.figure.Figure at 0xd466116dd8>"
      ]
     },
     "metadata": {},
     "output_type": "display_data"
    }
   ],
   "source": [
    "ax = np.floor(np.linspace(3, 20, epochs))\n",
    "f = plt.figure()\n",
    "for i in range(3, 20, 4):\n",
    "    plt.plot(ax, layer_size_cost[str(i)], label='$Hidden size = {i}$'.format(i=i))\n",
    "    \n",
    "plt.legend(loc='best')\n",
    "plt.title('Training error vs Hidden Layer Size for CM1', fontsize=18)\n",
    "plt.xlabel('Hidden Layer Size', fontsize=17)\n",
    "plt.ylabel('Loss', fontsize=17)\n",
    "f.savefig(\"MultiLayerPerceptronTrainingErrorCM1.pdf\", bbox_inches='tight')"
   ]
  },
  {
   "cell_type": "markdown",
   "metadata": {},
   "source": [
    "# Changing Hidden layer size and checking Accuracy for JM1"
   ]
  },
  {
   "cell_type": "code",
   "execution_count": 30,
   "metadata": {
    "collapsed": true
   },
   "outputs": [],
   "source": [
    "# Delete any previous sessions\n",
    "#del sess"
   ]
  },
  {
   "cell_type": "code",
   "execution_count": 31,
   "metadata": {},
   "outputs": [
    {
     "name": "stdout",
     "output_type": "stream",
     "text": [
      "Current Hidden Layer Size: 3\n",
      "\n",
      "Training Done!\n",
      "The accuracy for our test batch is:  0.759302\n",
      "Current Hidden Layer Size: 4\n",
      "\n",
      "Training Done!\n",
      "The accuracy for our test batch is:  0.807993\n",
      "Current Hidden Layer Size: 5\n",
      "\n",
      "Training Done!\n",
      "The accuracy for our test batch is:  0.775379\n",
      "Current Hidden Layer Size: 6\n",
      "\n",
      "Training Done!\n",
      "The accuracy for our test batch is:  0.807993\n",
      "Current Hidden Layer Size: 7\n",
      "\n",
      "Training Done!\n",
      "The accuracy for our test batch is:  0.7887\n",
      "Current Hidden Layer Size: 8\n",
      "\n",
      "Training Done!\n",
      "The accuracy for our test batch is:  0.772623\n",
      "Current Hidden Layer Size: 9\n",
      "\n",
      "Training Done!\n",
      "The accuracy for our test batch is:  0.796968\n",
      "Current Hidden Layer Size: 10\n",
      "\n",
      "Training Done!\n",
      "The accuracy for our test batch is:  0.807993\n",
      "Current Hidden Layer Size: 11\n",
      "\n",
      "Training Done!\n",
      "The accuracy for our test batch is:  0.789159\n",
      "Current Hidden Layer Size: 12\n",
      "\n",
      "Training Done!\n",
      "The accuracy for our test batch is:  0.789159\n",
      "Current Hidden Layer Size: 13\n",
      "\n",
      "Training Done!\n",
      "The accuracy for our test batch is:  0.762058\n",
      "Current Hidden Layer Size: 14\n",
      "\n",
      "Training Done!\n",
      "The accuracy for our test batch is:  0.789619\n",
      "Current Hidden Layer Size: 15\n",
      "\n",
      "Training Done!\n",
      "The accuracy for our test batch is:  0.777676\n",
      "Current Hidden Layer Size: 16\n",
      "\n",
      "Training Done!\n",
      "The accuracy for our test batch is:  0.777216\n",
      "Current Hidden Layer Size: 17\n",
      "\n",
      "Training Done!\n",
      "The accuracy for our test batch is:  0.790078\n",
      "Current Hidden Layer Size: 18\n",
      "\n",
      "Training Done!\n",
      "The accuracy for our test batch is:  0.796968\n",
      "Current Hidden Layer Size: 19\n",
      "\n",
      "Training Done!\n",
      "The accuracy for our test batch is:  0.796509\n",
      "Current Hidden Layer Size: 20\n",
      "\n",
      "Training Done!\n",
      "The accuracy for our test batch is:  0.787781\n"
     ]
    }
   ],
   "source": [
    "layer_size_cost = {}\n",
    "\n",
    "\n",
    "for i in range(3, 21):\n",
    "    print('Current Hidden Layer Size:', i)\n",
    "    # Hidden layer sizes\n",
    "    hidden1_size  = i\n",
    "    hidden2_size  = 2\n",
    "\n",
    "    # Input Placeholders \n",
    "    x = tf.placeholder(tf.float32, [None, 21])\n",
    "    y = tf.placeholder(tf.float32, [None, 2]) \n",
    "\n",
    "    # Create network\n",
    "    y_ = network_architecture(x, hidden1_size, hidden2_size)\n",
    "    \n",
    "    # Loss function\n",
    "    cross_entropy = tf.reduce_mean(tf.nn.softmax_cross_entropy_with_logits(labels=y, logits=y_)) \n",
    "    \n",
    "    # Optimization algorithm\n",
    "    optim = tf.train.AdamOptimizer(learning_rate=l_rate).minimize(cross_entropy)\n",
    "    \n",
    "    optimizer = tf.train.GradientDescentOptimizer(l_rate)\n",
    "    train = optimizer.minimize(cross_entropy)\n",
    "    \n",
    "    # Initializer\n",
    "    init_op = tf.global_variables_initializer()\n",
    "    \n",
    "    # Accuracy\n",
    "    correct_prediction = tf.equal(tf.argmax(y,1), tf.argmax(y_,1))\n",
    "    accuracy = tf.reduce_mean(tf.cast(correct_prediction, tf.float32))\n",
    "\n",
    "    # Training Loss\n",
    "    cost = []\n",
    "\n",
    "    with tf.Session() as sess: \n",
    "        sess.run(init_op)\n",
    "        for epoch in range(epochs):\n",
    "            #x_train, y_train = shuffle_in_unison(x_train, y_train)\n",
    "            for batch in range(0, len(x_trainjm1), batch_size):\n",
    "                batch_x = x_trainjm1[batch:(batch+batch_size)]\n",
    "                batch_y = y_trainjm1[batch:(batch+batch_size)]\n",
    "\n",
    "                _, loss = sess.run([train, cross_entropy], feed_dict = {x : batch_x, y : batch_y})\n",
    "\n",
    "            cost.append(loss)\n",
    "\n",
    "        print(\"\\nTraining Done!\")\n",
    "        current_hidden_size_acc = sess.run(accuracy, feed_dict={x: x_testjm1, y: y_testjm1})\n",
    "        print('The accuracy for our test batch is: ', current_hidden_size_acc)\n",
    "\n",
    "    sess.close()\n",
    "    \n",
    "    # Save the loss and accuracy into a dict \n",
    "    layer_size_cost[str(i)] = cost\n",
    "    layer_size_cost[(str(i) + '_acc')] = current_hidden_size_acc\n",
    "\n",
    "    # Delete previous session\n",
    "    del sess"
   ]
  },
  {
   "cell_type": "markdown",
   "metadata": {},
   "source": [
    "# Plot Accuracy-vs-Hidden Layer Increments for JM1"
   ]
  },
  {
   "cell_type": "code",
   "execution_count": 32,
   "metadata": {
    "collapsed": true
   },
   "outputs": [],
   "source": [
    "layer_size_vs_acc = []\n",
    "\n",
    "for i in range(3, 21, 1):\n",
    "    get_acc = str(i) + '_acc'\n",
    "    layer_size_vs_acc.append(layer_size_cost[get_acc])"
   ]
  },
  {
   "cell_type": "code",
   "execution_count": 33,
   "metadata": {},
   "outputs": [
    {
     "data": {
      "image/png": "[encoded data removed]",
      "text/plain": [
       "<matplotlib.figure.Figure at 0xd4692c5908>"
      ]
     },
     "metadata": {},
     "output_type": "display_data"
    }
   ],
   "source": [
    "ax = np.floor(np.linspace(3, 20, 18))\n",
    "f = plt.figure()\n",
    "plt.plot(ax, layer_size_vs_acc )\n",
    "plt.title('Test Accuracy vs Hidden Layer Size for JM1', fontsize=18)\n",
    "plt.xlabel('Hidden Layer Size',fontsize=17)\n",
    "plt.ylabel('Test Accuracy',fontsize=17)\n",
    "f.savefig(\"MultiLayerPerceptronTestAccuracyJM125.pdf\", bbox_inches='tight')"
   ]
  },
  {
   "cell_type": "markdown",
   "metadata": {
    "collapsed": true
   },
   "source": [
    "# Plot Training error vs Epoch for JM1"
   ]
  },
  {
   "cell_type": "code",
   "execution_count": 34,
   "metadata": {},
   "outputs": [
    {
     "data": {
      "image/png": "[encoded data removed]",
      "text/plain": [
       "<matplotlib.figure.Figure at 0xd470e949b0>"
      ]
     },
     "metadata": {},
     "output_type": "display_data"
    }
   ],
   "source": [
    "ax = np.floor(np.linspace(3, 20, epochs))\n",
    "f = plt.figure()\n",
    "for i in range(3, 20, 4):\n",
    "    plt.plot(ax, layer_size_cost[str(i)], label='$Hidden size = {i}$'.format(i=i))\n",
    "    \n",
    "plt.legend(loc='best')\n",
    "plt.title('Training error vs Hidden Layer Size for JM1', fontsize=18)\n",
    "plt.xlabel('Hidden Layer Size', fontsize=17)\n",
    "plt.ylabel('Loss', fontsize=17)\n",
    "f.savefig(\"MultiLayerPerceptronTrainingErrorJM1.pdf\", bbox_inches='tight')"
   ]
  },
  {
   "cell_type": "markdown",
   "metadata": {},
   "source": [
    "# Changing Hidden layer size and checking Accuracy for KC1"
   ]
  },
  {
   "cell_type": "code",
   "execution_count": 35,
   "metadata": {
    "collapsed": true
   },
   "outputs": [],
   "source": [
    "# Delete any previous sessions\n",
    "#del sess"
   ]
  },
  {
   "cell_type": "code",
   "execution_count": 36,
   "metadata": {},
   "outputs": [
    {
     "name": "stdout",
     "output_type": "stream",
     "text": [
      "Current Hidden Layer Size: 3\n",
      "\n",
      "Training Done!\n",
      "The accuracy for our test batch is:  0.843602\n",
      "Current Hidden Layer Size: 4\n",
      "\n",
      "Training Done!\n",
      "The accuracy for our test batch is:  0.843602\n",
      "Current Hidden Layer Size: 5\n",
      "\n",
      "Training Done!\n",
      "The accuracy for our test batch is:  0.843602\n",
      "Current Hidden Layer Size: 6\n",
      "\n",
      "Training Done!\n",
      "The accuracy for our test batch is:  0.836493\n",
      "Current Hidden Layer Size: 7\n",
      "\n",
      "Training Done!\n",
      "The accuracy for our test batch is:  0.845972\n",
      "Current Hidden Layer Size: 8\n",
      "\n",
      "Training Done!\n",
      "The accuracy for our test batch is:  0.843602\n",
      "Current Hidden Layer Size: 9\n",
      "\n",
      "Training Done!\n",
      "The accuracy for our test batch is:  0.845972\n",
      "Current Hidden Layer Size: 10\n",
      "\n",
      "Training Done!\n",
      "The accuracy for our test batch is:  0.834123\n",
      "Current Hidden Layer Size: 11\n",
      "\n",
      "Training Done!\n",
      "The accuracy for our test batch is:  0.843602\n",
      "Current Hidden Layer Size: 12\n",
      "\n",
      "Training Done!\n",
      "The accuracy for our test batch is:  0.843602\n",
      "Current Hidden Layer Size: 13\n",
      "\n",
      "Training Done!\n",
      "The accuracy for our test batch is:  0.836493\n",
      "Current Hidden Layer Size: 14\n",
      "\n",
      "Training Done!\n",
      "The accuracy for our test batch is:  0.841232\n",
      "Current Hidden Layer Size: 15\n",
      "\n",
      "Training Done!\n",
      "The accuracy for our test batch is:  0.841232\n",
      "Current Hidden Layer Size: 16\n",
      "\n",
      "Training Done!\n",
      "The accuracy for our test batch is:  0.841232\n",
      "Current Hidden Layer Size: 17\n",
      "\n",
      "Training Done!\n",
      "The accuracy for our test batch is:  0.838863\n",
      "Current Hidden Layer Size: 18\n",
      "\n",
      "Training Done!\n",
      "The accuracy for our test batch is:  0.843602\n",
      "Current Hidden Layer Size: 19\n",
      "\n",
      "Training Done!\n",
      "The accuracy for our test batch is:  0.843602\n",
      "Current Hidden Layer Size: 20\n",
      "\n",
      "Training Done!\n",
      "The accuracy for our test batch is:  0.843602\n"
     ]
    }
   ],
   "source": [
    "layer_size_cost = {}\n",
    "\n",
    "\n",
    "for i in range(3, 21):\n",
    "    print('Current Hidden Layer Size:', i)\n",
    "    # Hidden layer sizes\n",
    "    hidden1_size  = i\n",
    "    hidden2_size  = 2\n",
    "\n",
    "    # Input Placeholders \n",
    "    x = tf.placeholder(tf.float32, [None, 21])\n",
    "    y = tf.placeholder(tf.float32, [None, 2]) \n",
    "\n",
    "    # Create network\n",
    "    y_ = network_architecture(x, hidden1_size, hidden2_size)\n",
    "    \n",
    "    # Loss function\n",
    "    cross_entropy = tf.reduce_mean(tf.nn.softmax_cross_entropy_with_logits(labels=y, logits=y_)) \n",
    "    \n",
    "    # Optimization algorithm\n",
    "    optim = tf.train.AdamOptimizer(learning_rate=l_rate).minimize(cross_entropy)\n",
    "    \n",
    "    optimizer = tf.train.GradientDescentOptimizer(l_rate)\n",
    "    train = optimizer.minimize(cross_entropy)\n",
    "    \n",
    "    # Initializer\n",
    "    init_op = tf.global_variables_initializer()\n",
    "    \n",
    "    # Accuracy\n",
    "    correct_prediction = tf.equal(tf.argmax(y,1), tf.argmax(y_,1))\n",
    "    accuracy = tf.reduce_mean(tf.cast(correct_prediction, tf.float32))\n",
    "\n",
    "    # Training Loss\n",
    "    cost = []\n",
    "\n",
    "    with tf.Session() as sess: \n",
    "        sess.run(init_op)\n",
    "        for epoch in range(epochs):\n",
    "            #x_train, y_train = shuffle_in_unison(x_train, y_train)\n",
    "            for batch in range(0, len(x_trainkc1), batch_size):\n",
    "                batch_x = x_trainkc1[batch:(batch+batch_size)]\n",
    "                batch_y = y_trainkc1[batch:(batch+batch_size)]\n",
    "\n",
    "                _, loss = sess.run([train, cross_entropy], feed_dict = {x : batch_x, y : batch_y})\n",
    "\n",
    "            cost.append(loss)\n",
    "\n",
    "        print(\"\\nTraining Done!\")\n",
    "        current_hidden_size_acc = sess.run(accuracy, feed_dict={x: x_testkc1, y: y_testkc1})\n",
    "        print('The accuracy for our test batch is: ', current_hidden_size_acc)\n",
    "\n",
    "    sess.close()\n",
    "    \n",
    "    # Save the loss and accuracy into a dict \n",
    "    layer_size_cost[str(i)] = cost\n",
    "    layer_size_cost[(str(i) + '_acc')] = current_hidden_size_acc\n",
    "\n",
    "    # Delete previous session\n",
    "    del sess"
   ]
  },
  {
   "cell_type": "markdown",
   "metadata": {},
   "source": [
    "# Plot Accuracy-vs-Hidden Layer Increments for KC1"
   ]
  },
  {
   "cell_type": "code",
   "execution_count": 37,
   "metadata": {
    "collapsed": true
   },
   "outputs": [],
   "source": [
    "layer_size_vs_acc = []\n",
    "\n",
    "for i in range(3, 21, 1):\n",
    "    get_acc = str(i) + '_acc'\n",
    "    layer_size_vs_acc.append(layer_size_cost[get_acc])"
   ]
  },
  {
   "cell_type": "code",
   "execution_count": 38,
   "metadata": {},
   "outputs": [
    {
     "data": {
      "image/png": "[encoded data removed]",
      "text/plain": [
       "<matplotlib.figure.Figure at 0xd46b30e940>"
      ]
     },
     "metadata": {},
     "output_type": "display_data"
    }
   ],
   "source": [
    "ax = np.floor(np.linspace(3, 20, 18))\n",
    "f = plt.figure()\n",
    "plt.plot(ax, layer_size_vs_acc )\n",
    "plt.title('Test Accuracy vs Hidden Layer Size for KC1', fontsize=18)\n",
    "plt.xlabel('Hidden Layer Size',fontsize=17)\n",
    "plt.ylabel('Test Accuracy',fontsize=17)\n",
    "f.savefig(\"MultiLayerPerceptronTestAccuracyKC125.pdf\", bbox_inches='tight')"
   ]
  },
  {
   "cell_type": "markdown",
   "metadata": {
    "collapsed": true
   },
   "source": [
    "# Plot Training error vs Epoch for KC1"
   ]
  },
  {
   "cell_type": "code",
   "execution_count": 39,
   "metadata": {},
   "outputs": [
    {
     "data": {
      "image/png": "[encoded data removed]",
      "text/plain": [
       "<matplotlib.figure.Figure at 0xd47664e8d0>"
      ]
     },
     "metadata": {},
     "output_type": "display_data"
    }
   ],
   "source": [
    "ax = np.floor(np.linspace(3, 20, epochs))\n",
    "f = plt.figure()\n",
    "for i in range(3, 20, 4):\n",
    "    plt.plot(ax, layer_size_cost[str(i)], label='$Hidden size = {i}$'.format(i=i))\n",
    "    \n",
    "plt.legend(loc='best')\n",
    "plt.title('Training error vs Hidden Layer Size for KC1', fontsize=18)\n",
    "plt.xlabel('Hidden Layer Size', fontsize=17)\n",
    "plt.ylabel('Loss', fontsize=17)\n",
    "f.savefig(\"MultiLayerPerceptronTrainingErrorKC1.pdf\", bbox_inches='tight')"
   ]
  },
  {
   "cell_type": "markdown",
   "metadata": {},
   "source": [
    "# Changing Hidden layer size and checking Accuracy for KC2"
   ]
  },
  {
   "cell_type": "code",
   "execution_count": 40,
   "metadata": {
    "collapsed": true
   },
   "outputs": [],
   "source": [
    "# Delete any previous sessions\n",
    "#del sess"
   ]
  },
  {
   "cell_type": "code",
   "execution_count": 41,
   "metadata": {},
   "outputs": [
    {
     "name": "stdout",
     "output_type": "stream",
     "text": [
      "Current Hidden Layer Size: 3\n",
      "\n",
      "Training Done!\n",
      "The accuracy for our test batch is:  0.790476\n",
      "Current Hidden Layer Size: 4\n",
      "\n",
      "Training Done!\n",
      "The accuracy for our test batch is:  0.790476\n",
      "Current Hidden Layer Size: 5\n",
      "\n",
      "Training Done!\n",
      "The accuracy for our test batch is:  0.790476\n",
      "Current Hidden Layer Size: 6\n",
      "\n",
      "Training Done!\n",
      "The accuracy for our test batch is:  0.790476\n",
      "Current Hidden Layer Size: 7\n",
      "\n",
      "Training Done!\n",
      "The accuracy for our test batch is:  0.790476\n",
      "Current Hidden Layer Size: 8\n",
      "\n",
      "Training Done!\n",
      "The accuracy for our test batch is:  0.790476\n",
      "Current Hidden Layer Size: 9\n",
      "\n",
      "Training Done!\n",
      "The accuracy for our test batch is:  0.790476\n",
      "Current Hidden Layer Size: 10\n",
      "\n",
      "Training Done!\n",
      "The accuracy for our test batch is:  0.790476\n",
      "Current Hidden Layer Size: 11\n",
      "\n",
      "Training Done!\n",
      "The accuracy for our test batch is:  0.790476\n",
      "Current Hidden Layer Size: 12\n",
      "\n",
      "Training Done!\n",
      "The accuracy for our test batch is:  0.790476\n",
      "Current Hidden Layer Size: 13\n",
      "\n",
      "Training Done!\n",
      "The accuracy for our test batch is:  0.790476\n",
      "Current Hidden Layer Size: 14\n",
      "\n",
      "Training Done!\n",
      "The accuracy for our test batch is:  0.790476\n",
      "Current Hidden Layer Size: 15\n",
      "\n",
      "Training Done!\n",
      "The accuracy for our test batch is:  0.790476\n",
      "Current Hidden Layer Size: 16\n",
      "\n",
      "Training Done!\n",
      "The accuracy for our test batch is:  0.790476\n",
      "Current Hidden Layer Size: 17\n",
      "\n",
      "Training Done!\n",
      "The accuracy for our test batch is:  0.790476\n",
      "Current Hidden Layer Size: 18\n",
      "\n",
      "Training Done!\n",
      "The accuracy for our test batch is:  0.790476\n",
      "Current Hidden Layer Size: 19\n",
      "\n",
      "Training Done!\n",
      "The accuracy for our test batch is:  0.790476\n",
      "Current Hidden Layer Size: 20\n",
      "\n",
      "Training Done!\n",
      "The accuracy for our test batch is:  0.790476\n"
     ]
    }
   ],
   "source": [
    "layer_size_cost = {}\n",
    "\n",
    "\n",
    "for i in range(3, 21):\n",
    "    print('Current Hidden Layer Size:', i)\n",
    "    # Hidden layer sizes\n",
    "    hidden1_size  = i\n",
    "    hidden2_size  = 2\n",
    "\n",
    "    # Input Placeholders \n",
    "    x = tf.placeholder(tf.float32, [None, 21])\n",
    "    y = tf.placeholder(tf.float32, [None, 2]) \n",
    "\n",
    "    # Create network\n",
    "    y_ = network_architecture(x, hidden1_size, hidden2_size)\n",
    "    \n",
    "    # Loss function\n",
    "    cross_entropy = tf.reduce_mean(tf.nn.softmax_cross_entropy_with_logits(labels=y, logits=y_)) \n",
    "    \n",
    "    # Optimization algorithm\n",
    "    optim = tf.train.AdamOptimizer(learning_rate=l_rate).minimize(cross_entropy)\n",
    "    \n",
    "    optimizer = tf.train.GradientDescentOptimizer(l_rate)\n",
    "    train = optimizer.minimize(cross_entropy)\n",
    "    \n",
    "    \n",
    "    # Initializer\n",
    "    init_op = tf.global_variables_initializer()\n",
    "    \n",
    "    # Accuracy\n",
    "    correct_prediction = tf.equal(tf.argmax(y,1), tf.argmax(y_,1))\n",
    "    accuracy = tf.reduce_mean(tf.cast(correct_prediction, tf.float32))\n",
    "\n",
    "    # Training Loss\n",
    "    cost = []\n",
    "\n",
    "    with tf.Session() as sess: \n",
    "        sess.run(init_op)\n",
    "        for epoch in range(epochs):\n",
    "            #x_train, y_train = shuffle_in_unison(x_train, y_train)\n",
    "            for batch in range(0, len(x_trainkc2), batch_size):\n",
    "                batch_x = x_trainkc2[batch:(batch+batch_size)]\n",
    "                batch_y = y_trainkc2[batch:(batch+batch_size)]\n",
    "\n",
    "                _, loss = sess.run([train, cross_entropy], feed_dict = {x : batch_x, y : batch_y})\n",
    "\n",
    "            cost.append(loss)\n",
    "\n",
    "        print(\"\\nTraining Done!\")\n",
    "        current_hidden_size_acc = sess.run(accuracy, feed_dict={x: x_testkc2, y: y_testkc2})\n",
    "        print('The accuracy for our test batch is: ', current_hidden_size_acc)\n",
    "\n",
    "    sess.close()\n",
    "    \n",
    "    # Save the loss and accuracy into a dict \n",
    "    layer_size_cost[str(i)] = cost\n",
    "    layer_size_cost[(str(i) + '_acc')] = current_hidden_size_acc\n",
    "\n",
    "    # Delete previous session\n",
    "    del sess"
   ]
  },
  {
   "cell_type": "markdown",
   "metadata": {},
   "source": [
    "# Plot Accuracy-vs-Hidden Layer Increments for KC2"
   ]
  },
  {
   "cell_type": "code",
   "execution_count": 42,
   "metadata": {
    "collapsed": true
   },
   "outputs": [],
   "source": [
    "layer_size_vs_acc = []\n",
    "\n",
    "for i in range(3, 21, 1):\n",
    "    get_acc = str(i) + '_acc'\n",
    "    layer_size_vs_acc.append(layer_size_cost[get_acc])"
   ]
  },
  {
   "cell_type": "code",
   "execution_count": 43,
   "metadata": {},
   "outputs": [
    {
     "data": {
      "image/png": "[encoded data removed]",
      "text/plain": [
       "<matplotlib.figure.Figure at 0xd46f414fd0>"
      ]
     },
     "metadata": {},
     "output_type": "display_data"
    }
   ],
   "source": [
    "ax = np.floor(np.linspace(3, 20, 18))\n",
    "f = plt.figure()\n",
    "plt.plot(ax, layer_size_vs_acc )\n",
    "plt.title('Test Accuracy vs Hidden Layer Size for KC2', fontsize=18)\n",
    "plt.xlabel('Hidden Layer Size',fontsize=17)\n",
    "plt.ylabel('Test Accuracy',fontsize=17)\n",
    "f.savefig(\"MultiLayerPerceptronTestAccuracyKC225.pdf\", bbox_inches='tight')"
   ]
  },
  {
   "cell_type": "markdown",
   "metadata": {
    "collapsed": true
   },
   "source": [
    "# Plot Training error vs Epoch for KC2"
   ]
  },
  {
   "cell_type": "code",
   "execution_count": 44,
   "metadata": {},
   "outputs": [
    {
     "data": {
      "image/png": "[encoded data removed]",
      "text/plain": [
       "<matplotlib.figure.Figure at 0xd46f427128>"
      ]
     },
     "metadata": {},
     "output_type": "display_data"
    }
   ],
   "source": [
    "ax = np.floor(np.linspace(3, 20, epochs))\n",
    "f = plt.figure()\n",
    "for i in range(3, 20, 4):\n",
    "    plt.plot(ax, layer_size_cost[str(i)], label='$Hidden size = {i}$'.format(i=i))\n",
    "    \n",
    "plt.legend(loc='best')\n",
    "plt.title('Training error vs Hidden Layer Size for KC2', fontsize=18)\n",
    "plt.xlabel('Hidden Layer Size', fontsize=17)\n",
    "plt.ylabel('Loss', fontsize=17)\n",
    "f.savefig(\"MultiLayerPerceptronTrainingErrorKC2.pdf\", bbox_inches='tight')"
   ]
  },
  {
   "cell_type": "markdown",
   "metadata": {},
   "source": [
    "# Changing Hidden layer size and checking Accuracy for PC1"
   ]
  },
  {
   "cell_type": "code",
   "execution_count": 45,
   "metadata": {
    "collapsed": true
   },
   "outputs": [],
   "source": [
    "# Delete any previous sessions\n",
    "# del sess"
   ]
  },
  {
   "cell_type": "code",
   "execution_count": 46,
   "metadata": {},
   "outputs": [
    {
     "name": "stdout",
     "output_type": "stream",
     "text": [
      "Current Hidden Layer Size: 3\n",
      "\n",
      "Training Done!\n",
      "The accuracy for our test batch is:  0.932432\n",
      "Current Hidden Layer Size: 4\n",
      "\n",
      "Training Done!\n",
      "The accuracy for our test batch is:  0.932432\n",
      "Current Hidden Layer Size: 5\n",
      "\n",
      "Training Done!\n",
      "The accuracy for our test batch is:  0.932432\n",
      "Current Hidden Layer Size: 6\n",
      "\n",
      "Training Done!\n",
      "The accuracy for our test batch is:  0.932432\n",
      "Current Hidden Layer Size: 7\n",
      "\n",
      "Training Done!\n",
      "The accuracy for our test batch is:  0.927928\n",
      "Current Hidden Layer Size: 8\n",
      "\n",
      "Training Done!\n",
      "The accuracy for our test batch is:  0.932432\n",
      "Current Hidden Layer Size: 9\n",
      "\n",
      "Training Done!\n",
      "The accuracy for our test batch is:  0.932432\n",
      "Current Hidden Layer Size: 10\n",
      "\n",
      "Training Done!\n",
      "The accuracy for our test batch is:  0.932432\n",
      "Current Hidden Layer Size: 11\n",
      "\n",
      "Training Done!\n",
      "The accuracy for our test batch is:  0.932432\n",
      "Current Hidden Layer Size: 12\n",
      "\n",
      "Training Done!\n",
      "The accuracy for our test batch is:  0.932432\n",
      "Current Hidden Layer Size: 13\n",
      "\n",
      "Training Done!\n",
      "The accuracy for our test batch is:  0.927928\n",
      "Current Hidden Layer Size: 14\n",
      "\n",
      "Training Done!\n",
      "The accuracy for our test batch is:  0.932432\n",
      "Current Hidden Layer Size: 15\n",
      "\n",
      "Training Done!\n",
      "The accuracy for our test batch is:  0.927928\n",
      "Current Hidden Layer Size: 16\n",
      "\n",
      "Training Done!\n",
      "The accuracy for our test batch is:  0.936937\n",
      "Current Hidden Layer Size: 17\n",
      "\n",
      "Training Done!\n",
      "The accuracy for our test batch is:  0.932432\n",
      "Current Hidden Layer Size: 18\n",
      "\n",
      "Training Done!\n",
      "The accuracy for our test batch is:  0.932432\n",
      "Current Hidden Layer Size: 19\n",
      "\n",
      "Training Done!\n",
      "The accuracy for our test batch is:  0.932432\n",
      "Current Hidden Layer Size: 20\n",
      "\n",
      "Training Done!\n",
      "The accuracy for our test batch is:  0.932432\n"
     ]
    }
   ],
   "source": [
    "layer_size_cost = {}\n",
    "\n",
    "\n",
    "for i in range(3, 21):\n",
    "    print('Current Hidden Layer Size:', i)\n",
    "    # Hidden layer sizes\n",
    "    hidden1_size  = i\n",
    "    hidden2_size  = 2\n",
    "\n",
    "    # Input Placeholders \n",
    "    x = tf.placeholder(tf.float32, [None, 21])\n",
    "    y = tf.placeholder(tf.float32, [None, 2]) \n",
    "\n",
    "    # Create network\n",
    "    y_ = network_architecture(x, hidden1_size, hidden2_size)\n",
    "    \n",
    "    # Loss function\n",
    "    cross_entropy = tf.reduce_mean(tf.nn.softmax_cross_entropy_with_logits(labels=y, logits=y_)) \n",
    "    \n",
    "    # Optimization algorithm\n",
    "    optim = tf.train.AdamOptimizer(learning_rate=l_rate).minimize(cross_entropy)\n",
    "    \n",
    "    optimizer = tf.train.GradientDescentOptimizer(l_rate)\n",
    "    train = optimizer.minimize(cross_entropy)\n",
    "    \n",
    "    # Initializer\n",
    "    init_op = tf.global_variables_initializer()\n",
    "    \n",
    "    # Accuracy\n",
    "    correct_prediction = tf.equal(tf.argmax(y,1), tf.argmax(y_,1))\n",
    "    accuracy = tf.reduce_mean(tf.cast(correct_prediction, tf.float32))\n",
    "\n",
    "    # Training Loss\n",
    "    cost = []\n",
    "\n",
    "    with tf.Session() as sess: \n",
    "        sess.run(init_op)\n",
    "        for epoch in range(epochs):\n",
    "            #x_train, y_train = shuffle_in_unison(x_train, y_train)\n",
    "            for batch in range(0, len(x_trainpc1), batch_size):\n",
    "                batch_x = x_trainpc1[batch:(batch+batch_size)]\n",
    "                batch_y = y_trainpc1[batch:(batch+batch_size)]\n",
    "\n",
    "                _, loss = sess.run([train, cross_entropy], feed_dict = {x : batch_x, y : batch_y})\n",
    "\n",
    "            cost.append(loss)\n",
    "\n",
    "        print(\"\\nTraining Done!\")\n",
    "        current_hidden_size_acc = sess.run(accuracy, feed_dict={x: x_testpc1, y: y_testpc1})\n",
    "        print('The accuracy for our test batch is: ', current_hidden_size_acc)\n",
    "\n",
    "    sess.close()\n",
    "    \n",
    "    # Save the loss and accuracy into a dict \n",
    "    layer_size_cost[str(i)] = cost\n",
    "    layer_size_cost[(str(i) + '_acc')] = current_hidden_size_acc\n",
    "\n",
    "    # Delete previous session\n",
    "    del sess"
   ]
  },
  {
   "cell_type": "markdown",
   "metadata": {},
   "source": [
    "# Plot Accuracy-vs-Hidden Layer Increments for PC1"
   ]
  },
  {
   "cell_type": "code",
   "execution_count": 47,
   "metadata": {
    "collapsed": true
   },
   "outputs": [],
   "source": [
    "layer_size_vs_acc = []\n",
    "\n",
    "for i in range(3, 21, 1):\n",
    "    get_acc = str(i) + '_acc'\n",
    "    layer_size_vs_acc.append(layer_size_cost[get_acc])"
   ]
  },
  {
   "cell_type": "code",
   "execution_count": 48,
   "metadata": {},
   "outputs": [
    {
     "data": {
      "image/png": "[encoded data removed]",
      "text/plain": [
       "<matplotlib.figure.Figure at 0xd47297e9b0>"
      ]
     },
     "metadata": {},
     "output_type": "display_data"
    }
   ],
   "source": [
    "ax = np.floor(np.linspace(3, 20, 18))\n",
    "f = plt.figure()\n",
    "plt.plot(ax, layer_size_vs_acc )\n",
    "plt.title('Test Accuracy vs Hidden Layer Size for PC1', fontsize=18)\n",
    "plt.xlabel('Hidden Layer Size',fontsize=17)\n",
    "plt.ylabel('Test Accuracy',fontsize=17)\n",
    "f.savefig(\"MultiLayerPerceptronTestAccuracyPC125.pdf\", bbox_inches='tight')"
   ]
  },
  {
   "cell_type": "markdown",
   "metadata": {
    "collapsed": true
   },
   "source": [
    "# Plot Training error vs Epoch for PC1"
   ]
  },
  {
   "cell_type": "code",
   "execution_count": 49,
   "metadata": {},
   "outputs": [
    {
     "data": {
      "image/png": "[encoded data removed]",
      "text/plain": [
       "<matplotlib.figure.Figure at 0xd47297e978>"
      ]
     },
     "metadata": {},
     "output_type": "display_data"
    }
   ],
   "source": [
    "ax = np.floor(np.linspace(3, 20, epochs))\n",
    "f = plt.figure()\n",
    "for i in range(3, 20, 4):\n",
    "    plt.plot(ax, layer_size_cost[str(i)], label='$Hidden size = {i}$'.format(i=i))\n",
    "    \n",
    "plt.legend(loc='best')\n",
    "plt.title('Training error vs Hidden Layer Size for PC1', fontsize=18)\n",
    "plt.xlabel('Hidden Layer Size', fontsize=17)\n",
    "plt.ylabel('Loss', fontsize=17)\n",
    "f.savefig(\"MultiLayerPerceptronTrainingErrorPC1.pdf\", bbox_inches='tight')"
   ]
  },
  {
   "cell_type": "code",
   "execution_count": null,
   "metadata": {
    "collapsed": true
   },
   "outputs": [],
   "source": []
  }
 ],
 "metadata": {
  "kernelspec": {
   "display_name": "Python 3",
   "language": "python",
   "name": "python3"
  },
  "language_info": {
   "codemirror_mode": {
    "name": "ipython",
    "version": 3
   },
   "file_extension": ".py",
   "mimetype": "text/x-python",
   "name": "python",
   "nbconvert_exporter": "python",
   "pygments_lexer": "ipython3",
   "version": "3.6.1"
  }
 },
 "nbformat": 4,
 "nbformat_minor": 2
}
