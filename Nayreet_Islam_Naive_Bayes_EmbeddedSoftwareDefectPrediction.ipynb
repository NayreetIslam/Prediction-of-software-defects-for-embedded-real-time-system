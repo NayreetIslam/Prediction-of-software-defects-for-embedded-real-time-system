{
 "cells": [
  {
   "cell_type": "markdown",
   "metadata": {},
   "source": [
    "# On the Prediction of Software Defects for Embedded Real-time Systems"
   ]
  },
  {
   "cell_type": "markdown",
   "metadata": {},
   "source": [
    "# Gaussian Naive Bayes"
   ]
  },
  {
   "cell_type": "code",
   "execution_count": 1,
   "metadata": {
    "collapsed": true
   },
   "outputs": [],
   "source": [
    "import numpy as np\n",
    "import pickle\n",
    "from sklearn.naive_bayes import GaussianNB"
   ]
  },
  {
   "cell_type": "markdown",
   "metadata": {},
   "source": [
    "# Loading the data from the Pickle files"
   ]
  },
  {
   "cell_type": "code",
   "execution_count": 2,
   "metadata": {},
   "outputs": [
    {
     "name": "stdout",
     "output_type": "stream",
     "text": [
      "(298, 21)\n",
      "(298,)\n"
     ]
    }
   ],
   "source": [
    "with open('x_train.pkl', 'rb') as f:\n",
    "    x_train = pickle.load(f)\n",
    "\n",
    "with open('x_test.pkl', 'rb') as f:\n",
    "    x_test = pickle.load(f)\n",
    "\n",
    "with open('y_train.pkl', 'rb') as f:\n",
    "    y_train = pickle.load(f)\n",
    "\n",
    "with open('y_test.pkl', 'rb') as f:\n",
    "    y_test = pickle.load(f)\n",
    "    \n",
    "with open('x_traincm1.pkl', 'rb') as f:\n",
    "    x_traincm1 = pickle.load(f)\n",
    "\n",
    "with open('x_testcm1.pkl', 'rb') as f:\n",
    "    x_testcm1 = pickle.load(f)\n",
    "\n",
    "with open('y_traincm1.pkl', 'rb') as f:\n",
    "    y_traincm1 = pickle.load(f)\n",
    "\n",
    "with open('y_testcm1.pkl', 'rb') as f:\n",
    "    y_testcm1 = pickle.load(f)\n",
    "    \n",
    "with open('x_trainjm1.pkl', 'rb') as f:\n",
    "    x_trainjm1 = pickle.load(f)\n",
    "\n",
    "with open('x_testjm1.pkl', 'rb') as f:\n",
    "    x_testjm1 = pickle.load(f)\n",
    "\n",
    "with open('y_trainjm1.pkl', 'rb') as f:\n",
    "    y_trainjm1 = pickle.load(f)\n",
    "\n",
    "with open('y_testjm1.pkl', 'rb') as f:\n",
    "    y_testjm1 = pickle.load(f)\n",
    "    \n",
    "with open('x_trainkc1.pkl', 'rb') as f:\n",
    "    x_trainkc1 = pickle.load(f)\n",
    "\n",
    "with open('x_testkc1.pkl', 'rb') as f:\n",
    "    x_testkc1 = pickle.load(f)\n",
    "\n",
    "with open('y_trainkc1.pkl', 'rb') as f:\n",
    "    y_trainkc1 = pickle.load(f)\n",
    "\n",
    "with open('y_testkc1.pkl', 'rb') as f:\n",
    "    y_testkc1 = pickle.load(f)\n",
    "    \n",
    "with open('x_trainkc2.pkl', 'rb') as f:\n",
    "    x_trainkc2 = pickle.load(f)\n",
    "\n",
    "with open('x_testkc2.pkl', 'rb') as f:\n",
    "    x_testkc2 = pickle.load(f)\n",
    "\n",
    "with open('y_trainkc2.pkl', 'rb') as f:\n",
    "    y_trainkc2 = pickle.load(f)\n",
    "\n",
    "with open('y_testkc2.pkl', 'rb') as f:\n",
    "    y_testkc2 = pickle.load(f)\n",
    "    \n",
    "with open('x_trainpc1.pkl', 'rb') as f:\n",
    "    x_trainpc1 = pickle.load(f)\n",
    "\n",
    "with open('x_testpc1.pkl', 'rb') as f:\n",
    "    x_testpc1 = pickle.load(f)\n",
    "\n",
    "with open('y_trainpc1.pkl', 'rb') as f:\n",
    "    y_trainpc1 = pickle.load(f)\n",
    "\n",
    "with open('y_testpc1.pkl', 'rb') as f:\n",
    "    y_testpc1 = pickle.load(f)\n",
    "    \n",
    "with open('y_train_before1.pkl', 'rb') as f:\n",
    "    y_train_before = pickle.load(f)\n",
    "\n",
    "with open('y_test_before1.pkl', 'rb') as f:\n",
    "    y_test_before = pickle.load(f)\n",
    "    \n",
    "    \n",
    "with open('y_train_before1cm1.pkl', 'rb') as f:\n",
    "    y_train_beforecm1 = pickle.load(f)\n",
    "\n",
    "with open('y_test_before1cm1.pkl', 'rb') as f:\n",
    "    y_test_beforecm1 = pickle.load(f)\n",
    "    \n",
    "with open('y_train_before1jm1.pkl', 'rb') as f:\n",
    "    y_train_beforejm1 = pickle.load(f)\n",
    "\n",
    "with open('y_test_before1jm1.pkl', 'rb') as f:\n",
    "    y_test_beforejm1 = pickle.load(f)\n",
    "    \n",
    "with open('y_train_before1kc1.pkl', 'rb') as f:\n",
    "    y_train_beforekc1 = pickle.load(f)\n",
    "\n",
    "with open('y_test_before1kc1.pkl', 'rb') as f:\n",
    "    y_test_beforekc1 = pickle.load(f)\n",
    "    \n",
    "with open('y_train_before1kc2.pkl', 'rb') as f:\n",
    "    y_train_beforekc2 = pickle.load(f)\n",
    "\n",
    "with open('y_test_before1kc2.pkl', 'rb') as f:\n",
    "    y_test_beforekc2 = pickle.load(f)\n",
    "    \n",
    "with open('y_train_before1pc1.pkl', 'rb') as f:\n",
    "    y_train_beforepc1 = pickle.load(f)\n",
    "\n",
    "with open('y_test_before1pc1.pkl', 'rb') as f:\n",
    "    y_test_beforepc1 = pickle.load(f)\n",
    "    \n",
    "print(x_traincm1.shape)\n",
    "print(y_train_beforecm1.shape)"
   ]
  },
  {
   "cell_type": "code",
   "execution_count": 3,
   "metadata": {
    "collapsed": true
   },
   "outputs": [],
   "source": [
    "x_train = np.array(x_train).astype(np.float)\n",
    "y_train_before = np.array(y_train_before).astype(np.float)\n",
    "x_test = np.array(x_test).astype(np.float)\n",
    "y_test_before = np.array(y_test_before).astype(np.float)\n",
    "\n",
    "\n",
    "x_traincm1 = np.array(x_traincm1).astype(np.float)\n",
    "y_train_beforecm1 = np.array(y_train_beforecm1).astype(np.float)\n",
    "x_testcm1 = np.array(x_testcm1).astype(np.float)\n",
    "y_test_beforecm1 = np.array(y_test_beforecm1).astype(np.float)\n",
    "\n",
    "\n",
    "x_trainjm1 = np.array(x_trainjm1).astype(np.float)\n",
    "y_train_beforejm1 = np.array(y_train_beforejm1).astype(np.float)\n",
    "x_testjm1 = np.array(x_testjm1).astype(np.float)\n",
    "y_test_beforejm1 = np.array(y_test_beforejm1).astype(np.float)\n",
    "\n",
    "\n",
    "x_trainkc1 = np.array(x_trainkc1).astype(np.float)\n",
    "y_train_beforekc1 = np.array(y_train_beforekc1).astype(np.float)\n",
    "x_testkc1 = np.array(x_testkc1).astype(np.float)\n",
    "y_test_beforekc1 = np.array(y_test_beforekc1).astype(np.float)\n",
    "\n",
    "\n",
    "x_trainkc2 = np.array(x_trainkc2).astype(np.float)\n",
    "y_train_beforekc2 = np.array(y_train_beforekc2).astype(np.float)\n",
    "x_testkc2 = np.array(x_testkc2).astype(np.float)\n",
    "y_test_beforekc2 = np.array(y_test_beforekc2).astype(np.float)\n",
    "\n",
    "x_trainpc1 = np.array(x_trainpc1).astype(np.float)\n",
    "y_train_beforepc1 = np.array(y_train_beforepc1).astype(np.float)\n",
    "x_testpc1 = np.array(x_testpc1).astype(np.float)\n",
    "y_test_beforepc1 = np.array(y_test_beforepc1).astype(np.float)"
   ]
  },
  {
   "cell_type": "markdown",
   "metadata": {},
   "source": [
    "# Prediction of Software Defects using Gaussian Naive Bayes"
   ]
  },
  {
   "cell_type": "code",
   "execution_count": 4,
   "metadata": {
    "collapsed": true
   },
   "outputs": [],
   "source": [
    "def defect_prediction_model_GNB(x_train, y_train, x_test):\n",
    "    model = GaussianNB()\n",
    "    model.fit(x_train, y_train)\n",
    "    print(model.score(x_train, y_train))\n",
    "    #Predict Output\n",
    "    output= model.predict(x_test)\n",
    "    return output"
   ]
  },
  {
   "cell_type": "code",
   "execution_count": 5,
   "metadata": {},
   "outputs": [
    {
     "name": "stdout",
     "output_type": "stream",
     "text": [
      "0.81505565965\n",
      "0.848993288591\n",
      "0.807073954984\n",
      "0.824505928854\n",
      "0.82428115016\n",
      "0.852631578947\n"
     ]
    }
   ],
   "source": [
    "output_GNB = defect_prediction_model_GNB(x_train, y_train_before, x_test)\n",
    "output_GNBcm1 = defect_prediction_model_GNB(x_traincm1, y_train_beforecm1, x_testcm1)\n",
    "output_GNBjm1 = defect_prediction_model_GNB(x_trainjm1, y_train_beforejm1, x_testjm1)\n",
    "output_GNBkc1 = defect_prediction_model_GNB(x_trainkc1, y_train_beforekc1, x_testkc1)\n",
    "output_GNBkc2 = defect_prediction_model_GNB(x_trainkc2, y_train_beforekc2, x_testkc2)\n",
    "output_GNBpc1 = defect_prediction_model_GNB(x_trainpc1, y_train_beforepc1, x_testpc1)"
   ]
  },
  {
   "cell_type": "markdown",
   "metadata": {},
   "source": [
    "# Calculating Accuracy"
   ]
  },
  {
   "cell_type": "code",
   "execution_count": 6,
   "metadata": {
    "collapsed": true
   },
   "outputs": [],
   "source": [
    "def calculate_accuracy(output, y_test_before1):\n",
    "    accuracy = 0\n",
    "    for i in range(len(output)):\n",
    "        if y_test_before1[i] == output[i]:\n",
    "            accuracy += 1\n",
    "    \n",
    "    accuracy = accuracy/len(output)\n",
    "    \n",
    "    return accuracy"
   ]
  },
  {
   "cell_type": "code",
   "execution_count": 7,
   "metadata": {
    "collapsed": true
   },
   "outputs": [],
   "source": [
    "accuracy = calculate_accuracy(output_GNB, y_test_before)\n",
    "accuracycm1 = calculate_accuracy(output_GNBcm1, y_test_beforecm1)\n",
    "accuracyjm1 = calculate_accuracy(output_GNBjm1, y_test_beforejm1)\n",
    "accuracykc1 = calculate_accuracy(output_GNBkc1, y_test_beforekc1)\n",
    "accuracykc2 = calculate_accuracy(output_GNBkc2, y_test_beforekc2)\n",
    "accuracypc1 = calculate_accuracy(output_GNBpc1, y_test_beforepc1)"
   ]
  },
  {
   "cell_type": "code",
   "execution_count": 8,
   "metadata": {},
   "outputs": [
    {
     "name": "stdout",
     "output_type": "stream",
     "text": [
      "0.885\n",
      "0.8015617822691777\n",
      "0.8281990521327014\n",
      "0.8564593301435407\n",
      "0.8423423423423423\n",
      "0.8285950413223141\n"
     ]
    }
   ],
   "source": [
    "print(accuracycm1)\n",
    "print(accuracyjm1)\n",
    "print(accuracykc1)\n",
    "print(accuracykc2)\n",
    "print(accuracypc1)\n",
    "print(accuracy)"
   ]
  },
  {
   "cell_type": "code",
   "execution_count": null,
   "metadata": {
    "collapsed": true
   },
   "outputs": [],
   "source": []
  }
 ],
 "metadata": {
  "kernelspec": {
   "display_name": "Python 3",
   "language": "python",
   "name": "python3"
  },
  "language_info": {
   "codemirror_mode": {
    "name": "ipython",
    "version": 3
   },
   "file_extension": ".py",
   "mimetype": "text/x-python",
   "name": "python",
   "nbconvert_exporter": "python",
   "pygments_lexer": "ipython3",
   "version": "3.6.1"
  }
 },
 "nbformat": 4,
 "nbformat_minor": 2
}
